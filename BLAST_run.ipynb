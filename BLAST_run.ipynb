{
 "cells": [
  {
   "cell_type": "markdown",
   "id": "b322c459-0e60-4bcc-8acc-595f305fb205",
   "metadata": {},
   "source": [
    "# Running BLAST searches via BioPython\n",
    "In this practical we will replicate within a Jupyter notebook what we did earlier via the NCBI BLAST webpage. "
   ]
  },
  {
   "cell_type": "markdown",
   "id": "fef86815-4cc0-41aa-a358-065e26feb9c3",
   "metadata": {},
   "source": [
    "## Installation"
   ]
  },
  {
   "cell_type": "markdown",
   "id": "d14515fb-fe91-4af6-979f-060e0435f516",
   "metadata": {},
   "source": [
    "We can use the BioPython package for this task. BioPython is not another programming language, but a package that provides a lot of functionality for handling all sorts of Bioinformatics tasks. It is mostly focussed on sequence analysis, but also has a protein structure module. If you face one of these tedious Bioinformatics tasks, such extracting/filtering data from a bigger dataset, going from one format to another, etc. it (often) comes very handy."
   ]
  },
  {
   "cell_type": "markdown",
   "id": "48730448-5e25-4e92-8365-722f62c0f680",
   "metadata": {},
   "source": [
    "BioPython is not installed yet, let's get it via the pip command. Remember what the \"!\" does?"
   ]
  },
  {
   "cell_type": "code",
   "execution_count": null,
   "id": "18bb121c-8c9b-466b-8128-5cd51a85f084",
   "metadata": {},
   "outputs": [],
   "source": [
    "!pip install biopython"
   ]
  },
  {
   "cell_type": "markdown",
   "id": "cc50eefb-e7a7-41b9-86a4-d985d96d1b22",
   "metadata": {},
   "source": [
    "## Loading\n",
    "A slightly weird feature is that we load BioPython not via \"import biopython\" as you might assume. Also it is rather big, and normally we just load the parts we actually need. So ..."
   ]
  },
  {
   "cell_type": "code",
   "execution_count": null,
   "id": "6daebadf-df03-47fc-831b-502168d71605",
   "metadata": {},
   "outputs": [],
   "source": [
    "# load webBLAST and sequence modules\n",
    "from Bio.Blast import NCBIWWW\n",
    "from Bio import SeqIO"
   ]
  },
  {
   "cell_type": "markdown",
   "id": "c6022829-b1b0-47cb-a762-c97a9e3885d6",
   "metadata": {},
   "source": [
    "BioPython modules are fairly well documented. If you want to find out about available methods, parameters etc. Have a look at [NCBIWWW](https://biopython.org/docs/1.81/api/Bio.Blast.NCBIWWW.html) and [SeqIO](https://biopython.org/docs/1.81/api/Bio.SeqIO.html)"
   ]
  },
  {
   "cell_type": "markdown",
   "id": "42423a12-c3e9-416e-9d36-8749ce694dbd",
   "metadata": {},
   "source": [
    "## Do stuff\n",
    "Now let's start and read the PHOSPHO1 sequence we have downloaded earlier from a file we (hopefully) have saved."
   ]
  },
  {
   "cell_type": "code",
   "execution_count": null,
   "id": "34f2a3ef-7fa9-471d-a4e6-7544e00124da",
   "metadata": {},
   "outputs": [],
   "source": [
    "# generate sequence object from file, \n",
    "record = SeqIO.read(\"Phospho1.fasta\", format=\"fasta\")"
   ]
  },
  {
   "cell_type": "code",
   "execution_count": null,
   "id": "5d9fced8-dfe2-4f80-9333-4f247e0cc01b",
   "metadata": {},
   "outputs": [],
   "source": [
    "record"
   ]
  },
  {
   "cell_type": "markdown",
   "id": "d3d4bea0-1f67-46f5-8e6c-bfef93638092",
   "metadata": {},
   "source": [
    "Now we have our input sequence ready. The next line of code does all the work. "
   ]
  },
  {
   "cell_type": "code",
   "execution_count": null,
   "id": "1366a493-f9f8-42c1-a118-dba988f1f672",
   "metadata": {},
   "outputs": [],
   "source": [
    "# run blast and store as result object. This will take a while note the *. Don't continue before the search is completed\n",
    "result = NCBIWWW.qblast(\"blastp\", \"swissprot\", record.seq, expect=10, format_type=\"XML\")"
   ]
  },
  {
   "cell_type": "code",
   "execution_count": null,
   "id": "9c14e877-5075-428e-8d6a-b2e2cfc5cf22",
   "metadata": {},
   "outputs": [],
   "source": [
    "result"
   ]
  },
  {
   "cell_type": "markdown",
   "id": "107e5071-a233-404c-9024-34e447703870",
   "metadata": {},
   "source": [
    "Finally, let's save the output in a file."
   ]
  },
  {
   "cell_type": "code",
   "execution_count": null,
   "id": "28921ef5-0a7a-4d31-8b64-9a7b658704aa",
   "metadata": {},
   "outputs": [],
   "source": [
    "# save blast results in file\n",
    "with open(\"Phospho1_blast.XML\", \"w\") as out_handle:\n",
    "    out_handle.write(result.read())\n",
    "\n",
    "# and close the result handle\n",
    "result.close()\n"
   ]
  },
  {
   "cell_type": "markdown",
   "id": "94d79a3e-646b-4a25-8a10-7222c4a66d27",
   "metadata": {},
   "source": [
    "Let's quickly check whether the outputfile has indeed been generated."
   ]
  },
  {
   "cell_type": "code",
   "execution_count": null,
   "id": "d1345abc-62a4-45d8-923f-95d016ede224",
   "metadata": {},
   "outputs": [],
   "source": [
    "!ls -ltr"
   ]
  },
  {
   "cell_type": "markdown",
   "id": "d7e9b29b-c1b0-4aee-bccd-b84a2a8fe3a7",
   "metadata": {},
   "source": [
    "All done :-)\n",
    "But always a good idea to look at your data. Typically I'd use the *head* and *tail* commands in a terminal to check the content of the \"Phospho1_blast.text\" file, but it's a small file so let's use *cat* here to display the full content of the file. If we look at the content of the \"Phospho1_blast.text\" do you see anything suspicious?"
   ]
  },
  {
   "cell_type": "code",
   "execution_count": null,
   "id": "a1abe109-62da-4cd1-afa7-14bcb2469942",
   "metadata": {},
   "outputs": [],
   "source": [
    "!cat Phospho1_blast.text"
   ]
  },
  {
   "cell_type": "markdown",
   "id": "791c8e6c-4744-4121-ba56-e6ed405cc70d",
   "metadata": {},
   "source": [
    "The first few lines look odd and are likely to break any BLAST output parser that is expecting a standard BLAST text output. Hence, (and for a few other reasons) it is better to go for XML-formatted output. So let's fix and re-run."
   ]
  },
  {
   "cell_type": "markdown",
   "id": "34ac7312-d572-48f3-8046-02fa70a94c66",
   "metadata": {},
   "source": [
    "## Try for yourself\n",
    "We did a few more BLAST searches over the web earlier. Can you replicate them with BioPython? <BR>\n",
    "An interactive notebook is great for showing what's going on, but in a production environment you would want to run such searches non-interactively. Can you condense this notebook into a script and run it from terminal? "
   ]
  }
 ],
 "metadata": {
  "kernelspec": {
   "display_name": "Python 3",
   "language": "python",
   "name": "python3"
  },
  "language_info": {
   "codemirror_mode": {
    "name": "ipython",
    "version": 3
   },
   "file_extension": ".py",
   "mimetype": "text/x-python",
   "name": "python",
   "nbconvert_exporter": "python",
   "pygments_lexer": "ipython3",
   "version": "3.9.12"
  }
 },
 "nbformat": 4,
 "nbformat_minor": 5
}
