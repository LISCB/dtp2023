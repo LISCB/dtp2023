{
 "cells": [
  {
   "cell_type": "markdown",
   "id": "aaa2ebda-6462-4cd7-96f3-00480e00f763",
   "metadata": {},
   "source": [
    "# Analysing BLAST results with BioPython\n",
    "Now let's take our BLAST results, do a little bit of filtering and generate a multi-FASTA file that we can use as input for generating a MSA"
   ]
  },
  {
   "cell_type": "markdown",
   "id": "6577b1dc-4b44-4654-9c07-321a06488668",
   "metadata": {},
   "source": [
    "## Installation and Loading\n",
    "We have installed BioPython in the previous notebook, not need to do it again. In this notebook we make use of the Entrez and NCBIXML modules from BioPython. For documentation see [Entrex](https://biopython.org/docs/1.81/api/Bio.Entrez.html) and [NCBIXML](https://biopython.org/docs/1.81/api/Bio.Blast.NCBIXML.html) "
   ]
  },
  {
   "cell_type": "code",
   "execution_count": null,
   "id": "d42d1963-9db4-43cf-a18b-ef1d146bb275",
   "metadata": {},
   "outputs": [],
   "source": [
    "# load XML-BLAST parser and Entrez modules\n",
    "from Bio.Blast import NCBIXML\n",
    "from Bio import Entrez"
   ]
  },
  {
   "cell_type": "markdown",
   "id": "b905b05a-8443-4479-ba25-729f6288791e",
   "metadata": {},
   "source": [
    "Let's open the BLAST results we stored earlier."
   ]
  },
  {
   "cell_type": "code",
   "execution_count": null,
   "id": "2b9aaace-cfe1-4aaa-8718-f5a23c6dfcf5",
   "metadata": {},
   "outputs": [],
   "source": [
    "# create file object for reading\n",
    "blastfile = open(\"Phospho1_blast.xml\")\n",
    "blastfile"
   ]
  },
  {
   "cell_type": "markdown",
   "id": "1d44a9d5-1e5c-4ff9-8752-365046021742",
   "metadata": {},
   "source": [
    "Now we have access to the BLAST results file we could of course write our own parser. Fine if you want to learn programming and want to get coding practice, but not very efficient. The BioPython authors have already solved this problem for you, and (hopefully) dealt with all the quirks and file inconsistencies you ocasionally get from NCBI.  "
   ]
  },
  {
   "cell_type": "code",
   "execution_count": null,
   "id": "112a087c-f231-41ac-90c0-75932ad9b638",
   "metadata": {},
   "outputs": [],
   "source": [
    "# generate BLAST record object\n",
    "blast_record = NCBIXML.read(blastfile)\n",
    "blast_record\n",
    "\n",
    "# if you have results from multiple query sequences you would use NCBIXML.parse to generate an iterable object\n",
    "### blast_records = NCBIXML.parse(result)\n"
   ]
  },
  {
   "cell_type": "markdown",
   "id": "a5b50bea-b6dd-4fa0-8895-d3ca33fb0a53",
   "metadata": {},
   "source": [
    "Now we are ready to use the BLAST record object we have just stored. Before we do this, let's create a list to store all hits, and an E-value cutoff for filtering"
   ]
  },
  {
   "cell_type": "code",
   "execution_count": null,
   "id": "50095c44-881c-404f-8dce-a45829a21351",
   "metadata": {},
   "outputs": [],
   "source": [
    "# need a list for retrieving all hits as FASTA seqs from NCBI\n",
    "hits = []\n",
    "EXPECT_cutoff = 100 # adjust as required"
   ]
  },
  {
   "cell_type": "markdown",
   "id": "20e323c6-3702-4d19-bd61-1bc662d14948",
   "metadata": {},
   "source": [
    "Our BLAST record object contains all the hits from our BLAST search. To process this we need to loop over each hit. Let's print out a few features of each hit. And let's store the identifier of each hit in a list."
   ]
  },
  {
   "cell_type": "code",
   "execution_count": null,
   "id": "f6325211-a979-4c74-998c-d3ff744c9496",
   "metadata": {},
   "outputs": [],
   "source": [
    "# loop through hsps in alignments, populate hits list (and print out a few bits)\n",
    "for alignment in blast_record.alignments:\n",
    "    for hsp in alignment.hsps:\n",
    "        if hsp.expect <= EXPECT_cutoff:\n",
    "            print(\"hit:\", alignment.title)\n",
    "            print(\"length:\", alignment.length)\n",
    "            print(\"score:\", hsp.score) \n",
    "            print(\"e_value:\", hsp.expect)\n",
    "# It would be useful to have direct access to sequence identifiers, but unfortunately this is not implemented in BioPython. Long story ...\n",
    "# But we can isolate the identifier by ...\n",
    "            seq_components = alignment.title.split(\"|\")\n",
    "            print(\"id\", seq_components[1])\n",
    "# and we use this to populate list needed for sequence download later\n",
    "            hits.append(seq_components[1])\n"
   ]
  },
  {
   "cell_type": "markdown",
   "id": "06227a12-88c1-40fd-903f-0e4f570e4196",
   "metadata": {},
   "source": [
    "The last two hits are clearly (?!) not Phospho1 homologs, so let's adjust the E-value cut-off and re-run the last two blocks.  "
   ]
  },
  {
   "cell_type": "markdown",
   "id": "9f9d8152-24bc-4fb1-92a6-aafd1fe013ac",
   "metadata": {},
   "source": [
    "Let's get ready for the actual sequence retrieval. Basically we send a list to identifiers to the NCBI, and ask them to send the full FASTA sequences back. "
   ]
  },
  {
   "cell_type": "code",
   "execution_count": null,
   "id": "dcdf55a7-0399-402b-ad85-983961097a86",
   "metadata": {},
   "outputs": [],
   "source": [
    "# need to set a value  for email to avoid warning. Use your own (or don't).\n",
    "Entrez.email = \"B.Johnson@suspended.com\"  # Always tell NCBI who you are\n",
    "# ... and set name for output file \n",
    "filename = \"Phospho1_forMSA.fasta\"\n",
    "# let's doublecheck our hitlist\n",
    "hits"
   ]
  },
  {
   "cell_type": "code",
   "execution_count": null,
   "id": "b8bd2143-8633-41c9-9df8-989a68676863",
   "metadata": {},
   "outputs": [],
   "source": [
    "## need Entrez object to get data and file object to save FASTA sequences of all hits for MSA\n",
    "\n",
    "net_handle = Entrez.efetch(db=\"protein\", id=hits, rettype=\"fasta\", retmode=\"text\")\n",
    "out_handle = open(filename, \"w\")\n",
    "out_handle.write(net_handle.read())\n",
    "out_handle.close()\n",
    "net_handle.close()\n"
   ]
  },
  {
   "cell_type": "markdown",
   "id": "d30a3da7",
   "metadata": {},
   "source": [
    "Check your outputs - has the file been generated?"
   ]
  },
  {
   "cell_type": "code",
   "execution_count": null,
   "id": "cdd5a128",
   "metadata": {
    "scrolled": true
   },
   "outputs": [],
   "source": [
    "!ls -ltr"
   ]
  },
  {
   "cell_type": "markdown",
   "id": "de9a49f5",
   "metadata": {},
   "source": [
    "Has it worked?"
   ]
  },
  {
   "cell_type": "code",
   "execution_count": null,
   "id": "5a30d008",
   "metadata": {},
   "outputs": [],
   "source": [
    "!cat Phospho1_forMSA.fasta"
   ]
  },
  {
   "cell_type": "markdown",
   "id": "5aa826a0",
   "metadata": {},
   "source": [
    "And we are ready for generating MSAs."
   ]
  }
 ],
 "metadata": {
  "kernelspec": {
   "display_name": "Python 3",
   "language": "python",
   "name": "python3"
  },
  "language_info": {
   "codemirror_mode": {
    "name": "ipython",
    "version": 3
   },
   "file_extension": ".py",
   "mimetype": "text/x-python",
   "name": "python",
   "nbconvert_exporter": "python",
   "pygments_lexer": "ipython3",
   "version": "3.9.12"
  }
 },
 "nbformat": 4,
 "nbformat_minor": 5
}
